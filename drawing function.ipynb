{
 "cells": [
  {
   "cell_type": "markdown",
   "id": "approved-insertion",
   "metadata": {},
   "source": [
    "### OpenCV Drawing Functions\n",
    "We can draw the various shapes on an image such as circle, rectangle, ellipse, polylines, convex, etc. It is used when we want to highlight any object in the input image. The OpenCV provides functions for each shape"
   ]
  },
  {
   "cell_type": "markdown",
   "id": "known-vehicle",
   "metadata": {},
   "source": [
    "### Drawing Circle\n",
    "We can draw the circle on the image by using the cv2.circle() function\n",
    "\n",
    "### Syntax -\n",
    "### cv2.circle(img, center, radius,color[,thickness [, lineType[,shift]]])  \n",
    "\n",
    "\n",
    "Parameters:\n",
    "img- It represents the given image.\n",
    "\n",
    "center- Center of the circle\n",
    "\n",
    "radius- Radius of the circle\n",
    "\n",
    "color- Circle color\n",
    "\n",
    "thickness- It denotes the thickness of the circle outline, if it is positive. And negative thickness means that a filled circle is to be drawn.\n",
    "\n",
    "lineType- Defines the type of the circle boundary.\n",
    "\n",
    "shift- It represents the number of fractional bits in the coordinate of the center and the radius value.\n"
   ]
  },
  {
   "cell_type": "code",
   "execution_count": 1,
   "id": "dynamic-islam",
   "metadata": {},
   "outputs": [],
   "source": [
    "import cv2\n",
    "from matplotlib import pyplot as plt\n",
    "import numpy as np\n",
    "img = cv2.imread('image.png',1)"
   ]
  },
  {
   "cell_type": "code",
   "execution_count": null,
   "id": "durable-screen",
   "metadata": {},
   "outputs": [],
   "source": [
    "img = cv2.imread('image.png',1)\n",
    "cv2.circle(img,(80,80),55,(0,255,0),-1)\n",
    "cv2.imshow('image',img)\n",
    "cv2.waitKey(0)\n",
    "cv2.destroyAllWindows()"
   ]
  },
  {
   "cell_type": "markdown",
   "id": "mighty-layer",
   "metadata": {},
   "source": [
    "### Drawing Rectangle\n",
    "\n",
    "\n",
    "The OpenCV provides a function to draw a simple, thick or filled up-right rectangle. The syntax is following:\n",
    "\n",
    "### Syntax \n",
    "### cv2.rectangle(img, pt1, pt2, color[, thickness[,lineType[,shift]]])  \n",
    "\n",
    "#### Parameters:\n",
    "\n",
    "img- It represents an image.\n",
    "\n",
    "pt1- It denotes vertex of the rectangle.\n",
    "\n",
    "pt2- It denotes the vertex of the rectangle opposite to pt1.\n",
    "\n",
    "color- It denotes the rectangle color of brightness (grayscale image).\n",
    "\n",
    "thickness- It represents the thickness of the lines that makes up the rectangle. Negative values (CV_FILLED) mean that the function has to draw a filled rectangle.\n",
    "\n",
    "linetype- It represents the types of the line.\n",
    "\n",
    "shift- It represents the number of fractional bits in the point coordinates."
   ]
  },
  {
   "cell_type": "code",
   "execution_count": null,
   "id": "sufficient-occasion",
   "metadata": {},
   "outputs": [],
   "source": [
    "img = cv2.imread('image.png',1)\n",
    "cv2.rectangle(img,(15,25),(200,150),(0,255,255),5)\n",
    "cv2.imshow('image',img)\n",
    "cv2.waitKey(0)\n",
    "cv2.destroyAllWindows()"
   ]
  },
  {
   "cell_type": "markdown",
   "id": "liquid-peninsula",
   "metadata": {},
   "source": [
    "\n",
    "### Drawing Ellipse\n",
    "\n",
    "We can draw an ellipse on an image by using the cv2.ellipse() function. It can draw a simple or thick elliptic arc or can fill an ellipse sector.\n",
    "\n",
    "### Syntax\n",
    "\n",
    "### cv2.ellipse(img, center, axes, angle, startAngle, endAngle, color[, thickness[, lineType[, shift]]])   \n",
    "\n",
    "cv2.ellipse(img, box, color[, thickness[, lineType]])   \n",
    "\n",
    "### Parameters:\n",
    "\n",
    "img - It represents an image.\n",
    "\n",
    "box - It represents alternative ellipse representation via RotatedRect or CvBox2D. It means that the function is used to draws an ellipse in a curved rectangle.\n",
    "\n",
    "color - It denotes the ellipse color.\n",
    "\n",
    "angle- It denotes the angle of rotation.\n",
    "\n",
    "startAngle - It denotes the initial angle of the elliptic arc in degrees.\n",
    "\n",
    "endAngle - It denotes the ending angle of the elliptic arc in degrees.\n",
    "\n",
    "thickness - It is used to draw thickness of the ellipse arc outline if the value is positive. Otherwise, this specifies that a filled ellipse is to be drawn.\n",
    "\n",
    "lineType - It denotes the type of the ellipse boundary.\n",
    "\n",
    "shift - It represents the number of fractional bits in the coordinates of the center and values of axes."
   ]
  },
  {
   "cell_type": "code",
   "execution_count": null,
   "id": "radical-alarm",
   "metadata": {},
   "outputs": [],
   "source": [
    "cv2.ellipse(img,(100,100),(80,20),5,0,360,(0,0,255),-1)\n",
    "cv2.imshow('image',img)\n",
    "cv2.waitKey(0)\n",
    "cv2.destroyAllWindows()"
   ]
  },
  {
   "cell_type": "markdown",
   "id": "previous-workplace",
   "metadata": {},
   "source": [
    "There are two functions to draw the ellipse. The first function is used to draw the whole ellipse, not an arc bypassing startAngle=0 and endAngle = 360. The second function of an ellipse is used to draw an ellipse outline, a filled ellipse, an elliptic arc, or a filled ellipse sector.\n",
    "\n",
    "### Drawing lines\n",
    "\n",
    "OpenCV provides the line() function to draw the line on the image. It draws a line segment between ptr1 and ptr2 points in the image. The image boundary clips the line.\n",
    "\n",
    "#### Syntax\n",
    "### cv2.line(img, pt1, pt2, color[, thickness[, lineType[, shift]]])  \n",
    "\n",
    "### Parameters:\n",
    "\n",
    "img- It represents an image.\n",
    "\n",
    "pt1- It denotes the first point of the line segments.\n",
    "\n",
    "pt2- It denotes the second point of the line segment.\n",
    "\n",
    "color - Represents the Line-color\n",
    "\n",
    "thickness- Represents the Line thickness\n",
    "lineType- There are various types of line:\n",
    "\n",
    "8 (or omitted) - 8 connected lines.\n",
    "\n",
    "4 - 4-connected line.\n",
    "\n",
    "CV__AA- antialiased line\n",
    "\n",
    "shift- It represents the number of fractional bits in the point coordinates."
   ]
  },
  {
   "cell_type": "code",
   "execution_count": 4,
   "id": "egyptian-partner",
   "metadata": {},
   "outputs": [],
   "source": [
    "img = cv2.imread('image.png',1)\n",
    "cv2.line(img,(10,10),(150,150),(0,0,0),5)\n",
    "cv2.imshow('image',img)  \n",
    "cv2.waitKey(0)\n",
    "cv2.destroyAllWindows()"
   ]
  },
  {
   "cell_type": "markdown",
   "id": "fancy-miniature",
   "metadata": {},
   "source": [
    "### Write Text on Image\n",
    "\n",
    "We can write text on the image by using the putText() function. The syntax is given below.\n",
    "\n",
    "### Syntax\n",
    " \n",
    "### cv2.putText(img, text, org, font, color)  \n",
    "\n",
    "### Parameters:\n",
    "\n",
    "img: It represents an image\n",
    "\n",
    "text: It represents a text which we want to write on the image.\n",
    "\n",
    "org: It denotes the Bottom-left corner of the text string in the image.\n",
    "\n",
    "font: CvFont structure is initialized using InitFont().\n",
    "\n",
    "color: Represents the Text color."
   ]
  },
  {
   "cell_type": "code",
   "execution_count": 7,
   "id": "annoying-offense",
   "metadata": {},
   "outputs": [
    {
     "data": {
      "text/plain": [
       "-1"
      ]
     },
     "execution_count": 7,
     "metadata": {},
     "output_type": "execute_result"
    }
   ],
   "source": [
    "font = cv2.FONT_HERSHEY_SIMPLEX\n",
    "# Create a black image\n",
    "\n",
    "img = cv2.imread('fullblack.jpg',1)\n",
    "cv2.putText(img,'My PRoject',(30,50),font,1,(255,255,255),2)\n",
    "\n",
    "#Display the image\n",
    "\n",
    "cv2.imshow('image',img)\n",
    "cv2.waitKey(0)"
   ]
  },
  {
   "cell_type": "markdown",
   "id": "lyric-projector",
   "metadata": {},
   "source": [
    "### Drawing Polylines\n",
    "\n",
    "We can draw the polylines on the image. OpenCV provides the polylines() function, that is used to draw polygonal curves on the image. The syntax is given below:\n",
    "\n",
    "### Syntax\n",
    "\n",
    "#### cv2.polyLine(img, polys, is_closed, color, thickness=1, lineType=8, shift=0)  \n",
    "\n",
    "### Parameters:\n",
    "\n",
    "img - It represents an image.\n",
    "\n",
    "pts - It denotes the array of polygon curves.\n",
    "\n",
    "npts - It denotes an array of polygon vertex counters.\n",
    "\n",
    "ncounters - It represents the number of curves.\n",
    "\n",
    "is_Closed - It is a flag that indicates whether the drawn polylines are closed or not.\n",
    "\n",
    "color - Color of polylines.\n",
    "\n",
    "thickness - It represents the Thickness of the polylines edges.\n",
    "\n",
    "lineType - Type of the line segment.\n",
    "\n",
    "shift- It represents the number of fractional bits in the point coordinates."
   ]
  },
  {
   "cell_type": "code",
   "execution_count": 9,
   "id": "waiting-edinburgh",
   "metadata": {},
   "outputs": [],
   "source": [
    "img = cv2.imread('moonfull.jpg',cv2.IMREAD_COLOR)\n",
    "# defining points for polylines\n",
    "\n",
    "pts = np.array([[100,50],[200,300],[700,200],[500,100]], np.int32)  \n",
    "# pts = pts.reshape((-1,1,2))\n",
    "\n",
    "cv2.polylines(img,[pts],True,(0,255,255),3)\n",
    "cv2.imshow('image',img)\n",
    "cv2.waitKey(0)\n",
    "cv2.destroyAllWindows()"
   ]
  },
  {
   "cell_type": "code",
   "execution_count": null,
   "id": "another-indicator",
   "metadata": {},
   "outputs": [],
   "source": []
  }
 ],
 "metadata": {
  "kernelspec": {
   "display_name": "Python 3",
   "language": "python",
   "name": "python3"
  },
  "language_info": {
   "codemirror_mode": {
    "name": "ipython",
    "version": 3
   },
   "file_extension": ".py",
   "mimetype": "text/x-python",
   "name": "python",
   "nbconvert_exporter": "python",
   "pygments_lexer": "ipython3",
   "version": "3.7.6"
  }
 },
 "nbformat": 4,
 "nbformat_minor": 5
}
