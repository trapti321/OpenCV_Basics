{
 "cells": [
  {
   "cell_type": "code",
   "execution_count": 1,
   "id": "conservative-fifteen",
   "metadata": {},
   "outputs": [],
   "source": [
    "import cv2\n",
    "from matplotlib import pyplot as plt\n",
    "import numpy as np"
   ]
  },
  {
   "cell_type": "code",
   "execution_count": 2,
   "id": "structural-victim",
   "metadata": {},
   "outputs": [],
   "source": [
    "img = cv2.imread('image.png',-1)"
   ]
  },
  {
   "cell_type": "markdown",
   "id": "fundamental-stylus",
   "metadata": {},
   "source": [
    "### OpenCV Image Rotation\n",
    "\n",
    "The image can be rotated in various angles (90,180,270 and 360). OpenCV calculates the affine matrix that performs affine transformation, which means it does not preserve the angle between the lines or distances between the points, although it preserves the ratio of distances between points lying on the lines.\n",
    "\n",
    "The syntax of the rotate image is the following:"
   ]
  },
  {
   "cell_type": "markdown",
   "id": "optimum-sculpture",
   "metadata": {},
   "source": [
    "cv2.getRotationMatrix2D(center, angle, scale rotated = cv2.warpAfifne(img,M,(w,h))  "
   ]
  },
  {
   "cell_type": "markdown",
   "id": "assured-selection",
   "metadata": {},
   "source": [
    "### Parameters:\n",
    "\n",
    "center: It represents the center of the image.\n",
    "\n",
    "angle: It represents the angle by which a particular image to be rotated in the anti-clockwise direction.\n",
    "\n",
    "rotated: ndarray that holds the rotated image data.\n",
    "\n",
    "scale: The value 1.0 is denoted that the shape is preserved. Scale the image according to the provided value."
   ]
  },
  {
   "cell_type": "code",
   "execution_count": 8,
   "id": "nutritional-lover",
   "metadata": {},
   "outputs": [],
   "source": [
    "# get image height, width\n",
    "\n",
    "(h,w) = img.shape[:2]\n",
    "\n",
    "#calculate the center of image \n",
    "\n",
    "center = (w/2,h/2)\n",
    "\n",
    "angle90 = 90\n",
    "angle180 = 180 \n",
    "angle270 = 270\n",
    "\n",
    "scale = 1.0\n",
    "\n",
    "# Perform the counterclockwise rotation holding at the center\n",
    "\n",
    "# 90 degrees\n",
    "M = cv2.getRotationMatrix2D(center, angle90, scale)  \n",
    "rotated90 = cv2.warpAffine(img, M, (h, w))  \n",
    "\n",
    "# 180 degrees  \n",
    "M = cv2.getRotationMatrix2D(center, angle180, scale)  \n",
    "rotated180 = cv2.warpAffine(img, M, (w, h))  \n",
    "  \n",
    "# 270 degrees  \n",
    "M = cv2.getRotationMatrix2D(center, angle270, scale)  \n",
    "rotated270 = cv2.warpAffine(img, M, (h, w))  \n",
    "  \n",
    "cv2.imshow('Original Image', img)  \n",
    "cv2.waitKey(0)  # waits until a key is pressed  \n",
    "cv2.destroyAllWindows()  # destroys the window showing image  \n",
    "  \n",
    "cv2.imshow('Image rotated by 90 degrees', rotated90)  \n",
    "cv2.waitKey(0)  # waits until a key is pressed  \n",
    "cv2.destroyAllWindows()  # destroys the window showing imag  \n",
    "  \n",
    "cv2.imshow('Image rotated by 180 degrees', rotated180)  \n",
    "cv2.waitKey(0)  # waits until a key is pressed  \n",
    "cv2.destroyAllWindows()  # destroys the window showing image  \n",
    "  \n",
    "cv2.imshow('Image rotated by 270 degrees', rotated270)  \n",
    "cv2.waitKey(0)  # waits until a key is pressed  \n",
    "cv2.destroyAllWindows()  # destroys the window showing image  \n",
    "\n"
   ]
  },
  {
   "cell_type": "code",
   "execution_count": null,
   "id": "sustained-purchase",
   "metadata": {},
   "outputs": [],
   "source": []
  }
 ],
 "metadata": {
  "kernelspec": {
   "display_name": "Python 3",
   "language": "python",
   "name": "python3"
  },
  "language_info": {
   "codemirror_mode": {
    "name": "ipython",
    "version": 3
   },
   "file_extension": ".py",
   "mimetype": "text/x-python",
   "name": "python",
   "nbconvert_exporter": "python",
   "pygments_lexer": "ipython3",
   "version": "3.7.6"
  }
 },
 "nbformat": 4,
 "nbformat_minor": 5
}
