{
 "cells": [
  {
   "cell_type": "code",
   "execution_count": 2,
   "id": "legal-provider",
   "metadata": {},
   "outputs": [],
   "source": [
    "import cv2\n",
    "from matplotlib import pyplot as plt\n",
    "import numpy as np"
   ]
  },
  {
   "cell_type": "markdown",
   "id": "western-mozambique",
   "metadata": {},
   "source": [
    "#### To read image from disk, we use\n",
    "####  cv2.imread function, in below method"
   ]
  },
  {
   "cell_type": "code",
   "execution_count": 3,
   "id": "latter-soldier",
   "metadata": {},
   "outputs": [],
   "source": [
    "img = cv2.imread('image.png',-1)"
   ]
  },
  {
   "cell_type": "markdown",
   "id": "frozen-tobacco",
   "metadata": {},
   "source": [
    "### Instead of these three flags, you can simply pass \n",
    "integers 1, 0 or -1 respectively.\n",
    "\n",
    "0 = greyscale\n",
    "\n",
    "1 = colorimage\n",
    "\n",
    "-1 = unchanged original"
   ]
  },
  {
   "cell_type": "code",
   "execution_count": 3,
   "id": "numeric-infrared",
   "metadata": {},
   "outputs": [
    {
     "ename": "AttributeError",
     "evalue": "module 'cv2.cv2' has no attribute 'destroyAllWindow'",
     "output_type": "error",
     "traceback": [
      "\u001b[1;31m---------------------------------------------------------------------------\u001b[0m",
      "\u001b[1;31mAttributeError\u001b[0m                            Traceback (most recent call last)",
      "\u001b[1;32m<ipython-input-3-4ed99f11f9df>\u001b[0m in \u001b[0;36m<module>\u001b[1;34m\u001b[0m\n\u001b[0;32m      4\u001b[0m \u001b[0mcv2\u001b[0m\u001b[1;33m.\u001b[0m\u001b[0mimshow\u001b[0m\u001b[1;33m(\u001b[0m\u001b[1;34m'image'\u001b[0m\u001b[1;33m,\u001b[0m\u001b[0mimg\u001b[0m\u001b[1;33m)\u001b[0m\u001b[1;33m\u001b[0m\u001b[1;33m\u001b[0m\u001b[0m\n\u001b[0;32m      5\u001b[0m \u001b[0mcv2\u001b[0m\u001b[1;33m.\u001b[0m\u001b[0mwaitKey\u001b[0m\u001b[1;33m(\u001b[0m\u001b[1;36m0\u001b[0m\u001b[1;33m)\u001b[0m\u001b[1;33m\u001b[0m\u001b[1;33m\u001b[0m\u001b[0m\n\u001b[1;32m----> 6\u001b[1;33m \u001b[0mcv2\u001b[0m\u001b[1;33m.\u001b[0m\u001b[0mdestroyAllWindow\u001b[0m\u001b[1;33m(\u001b[0m\u001b[1;33m)\u001b[0m\u001b[1;33m\u001b[0m\u001b[1;33m\u001b[0m\u001b[0m\n\u001b[0m",
      "\u001b[1;31mAttributeError\u001b[0m: module 'cv2.cv2' has no attribute 'destroyAllWindow'"
     ]
    }
   ],
   "source": [
    "# Creating GUI window to display an imag on screen\n",
    "# first param is window title(str), second imag array\n",
    "\n",
    "cv2.imshow('image',img)\n",
    "cv2.waitKey(0)\n",
    "cv2.destroyAllWindow()"
   ]
  },
  {
   "cell_type": "code",
   "execution_count": null,
   "id": "operating-election",
   "metadata": {},
   "outputs": [],
   "source": [
    "# To hold the window on screen, we use cv2.waitKey method\n",
    "# Once it detected the close input, it will release the control\n",
    "# To the next line\n",
    "# First Parameter is for holding screen for specified milliseconds\n",
    "# It should be positive integer. If 0 pass an parameter, then it will\n",
    "# hold the screen until user close it.\n",
    "\n",
    "#cv2.waitkey(0) it doesn't work"
   ]
  },
  {
   "cell_type": "markdown",
   "id": "annual-paste",
   "metadata": {},
   "source": [
    "#### cv2.waitKey() is a keyboard binding function. Its argument is the time in milliseconds. The function waits for specified milliseconds for any keyboard event. If you press any key in that time, the program continues. If 0 is passed, it waits indefinitely for a key stroke. It can also be set to detect specific key strokes like, if key a is pressed etc which we will discuss below.\n",
    "\n",
    "cv2.destroyAllWindows() simply destroys all the windows we created. If you want to destroy any specific window, use the function cv2.destroyWindow() where you pass the exact window name as the argument.\n",
    "\n",
    "There is a special case where you can already create a window and load image to it later. In that case, you can specify whether window is resizable or not. It is done with the function cv2.namedWindow(). By default, the flag is cv2.WINDOW_AUTOSIZE. But if you specify flag to be cv2.WINDOW_NORMAL, you can resize window. It will be helpful when image is too large in dimension and adding track bar to windows."
   ]
  },
  {
   "cell_type": "code",
   "execution_count": null,
   "id": "smooth-adventure",
   "metadata": {},
   "outputs": [],
   "source": [
    "cv2.namedWindow('image',cv2.WINDOW_AUTOSIZE)\n",
    "cv2.imshow('image',img)\n",
    "cv2.waitkey(0)\n",
    "cv2.destroyAllWindows()"
   ]
  },
  {
   "cell_type": "code",
   "execution_count": null,
   "id": "flush-discrimination",
   "metadata": {},
   "outputs": [],
   "source": [
    "# To Save the image, write an image\n",
    "\n",
    "cv2.imwrite('imgrey',img)"
   ]
  },
  {
   "cell_type": "code",
   "execution_count": null,
   "id": "happy-rugby",
   "metadata": {},
   "outputs": [],
   "source": [
    "#Below program loads an image in grayscale, displays it, save the image if you press ‘s’ and exit, or simply exit without saving if you press ESC key.\n",
    "\n",
    "img = cv2.imread('image.png',0)\n",
    "cv2.imshow('image',img)\n",
    "k = cv2.waitKey(0) & 0xFF  #If you are using a 64-bit machine, you will have to modify k = cv2.waitKey(0) line as follows : k = cv2.waitKey(0) & 0xFF\n",
    "if k == 27:  #wait for ESC key to exit\n",
    "    cv2.destroyAllWindows()\n",
    "elif k == ord('s'):   #wait for 's' key to save and exit\n",
    "    cv2.imwrite('imagegrey.png',img)\n",
    "    cv2.destroyAllWindow()"
   ]
  },
  {
   "cell_type": "markdown",
   "id": "mechanical-horror",
   "metadata": {},
   "source": [
    "###  how to display image with Matplotlib. You can zoom images, save it etc using Matplotlib."
   ]
  },
  {
   "cell_type": "code",
   "execution_count": null,
   "id": "according-asian",
   "metadata": {},
   "outputs": [],
   "source": [
    "img = cv2.imread('moonfull.jpg',1)\n",
    "plt.imshow(img, cmap='gray',interpolation = 'bicubic')\n",
    "plt.xticks([]), plt.yticks([]) #to hide tick values on X and Y axis\n",
    "plt.show()"
   ]
  },
  {
   "cell_type": "markdown",
   "id": "steady-might",
   "metadata": {},
   "source": [
    "Color image loaded by OpenCV is in BGR mode. But Matplotlib displays in RGB mode. So color images will not be displayed correctly in Matplotlib if image is read with OpenCV."
   ]
  },
  {
   "cell_type": "markdown",
   "id": "referenced-savings",
   "metadata": {},
   "source": [
    "## Getting Started with Videos\n",
    "Goal\n",
    "Learn to read video, display video and save video.\n",
    "\n",
    "Learn to capture from Camera and display it.\n",
    "\n",
    "You will learn these functions : \n",
    "\n",
    "cv2.VideoCapture()\n",
    "\n",
    "cv2.VideoWriter()"
   ]
  },
  {
   "cell_type": "markdown",
   "id": "selected-ivory",
   "metadata": {},
   "source": [
    "# Capture Video from Camera\n",
    "\n",
    "Often, we have to capture live stream with camera. OpenCV provides a very simple interface to this. Let’s capture a video from the camera (I am using the in-built webcam of my laptop), convert it into grayscale video and display it. Just a simple task to get started.\n",
    "\n",
    "To capture a video, you need to create a VideoCapture object. Its argument can be either the device index or the name of a video file. Device index is just the number to specify which camera. Normally one camera will be connected (as in my case). So I simply pass 0 (or -1). You can select the second camera by passing 1 and so on. After that, you can capture frame-by-frame. But at the end, don’t forget to release the capture."
   ]
  },
  {
   "cell_type": "code",
   "execution_count": 17,
   "id": "meaning-spread",
   "metadata": {},
   "outputs": [],
   "source": [
    "cap = cv2.VideoCapture(0)\n",
    "\n",
    "while(True):\n",
    "    # Capture image frame-by-frame\n",
    "    ret, frame = cap.read()\n",
    "    \n",
    "    #Our operation on the frame come here\n",
    "    gray = cv2.cvtColor(frame, cv2.COLOR_BGR2GRAY)\n",
    "    \n",
    "    # Display the resulting frame\n",
    "    cv2.imshow('frame',gray)\n",
    "    if cv2.waitKey(1) & 0xFF == ord('q'):\n",
    "        break\n",
    "        \n",
    "# Release the capture\n",
    "cap.release()\n",
    "cv2.destroyAllWindows()"
   ]
  },
  {
   "cell_type": "markdown",
   "id": "chicken-startup",
   "metadata": {},
   "source": [
    "cap.read() returns a bool (True/False). If frame is read correctly, it will be True. So you can check end of the video by checking this return value.\n",
    "\n",
    "Sometimes, cap may not have initialized the capture. In that case, this code shows error. You can check whether it is initialized or not by the method cap.isOpened(). If it is True, OK. Otherwise open it using cap.open().\n",
    "\n",
    "You can also access some of the features of this video using cap.get(propId) method where propId is a number from 0 to 18. Each number denotes a property of the video (if it is applicable to that video) and full details can be seen here: Property Identifier. Some of these values can be modified using cap.set(propId, value). Value is the new value you want.\n",
    "\n",
    "For example, I can check the frame width and height by cap.get(3) and cap.get(4). It gives me 640x480 by default. But I want to modify it to 320x240. Just use ret = cap.set(3,320) and ret = cap.set(4,240).\n",
    "\n",
    "\n",
    "\n",
    "#### It is better to know the size of the image to work with the image processing application. In OpenCV, images are generally stored in the Numpy ndarray. To get the image shape or size, use ndarray.shape to find the dimension of the image. Then, we can use the index position to get the height, width, and number of channels."
   ]
  },
  {
   "cell_type": "code",
   "execution_count": 3,
   "id": "boolean-secondary",
   "metadata": {},
   "outputs": [
    {
     "name": "stdout",
     "output_type": "stream",
     "text": [
      "[188 212 236 255]\n"
     ]
    }
   ],
   "source": [
    "pixel = img[100,100]\n",
    "print(pixel)"
   ]
  },
  {
   "cell_type": "markdown",
   "id": "approved-garage",
   "metadata": {},
   "source": [
    "Access pixel values and modify them\n",
    "\n",
    "Access Image Properties\n",
    "\n",
    "Setting Region of Image\n",
    "\n",
    "Splitting and merging images\n",
    "\n",
    "Change the image color\n",
    "\n",
    "Accessing and Modifying pixel values\n",
    "\n",
    "### We can retrieve a pixel value by its row and column coordinates. It returns an array of blue, green, red values of the BGR image. It returns the corresponding intensity for the grayscale image. First, we need to load the BGR image."
   ]
  },
  {
   "cell_type": "code",
   "execution_count": 8,
   "id": "binding-ethnic",
   "metadata": {},
   "outputs": [
    {
     "name": "stdout",
     "output_type": "stream",
     "text": [
      "Image Dimension    : (207, 220, 3)\n",
      "Image Height       : 207\n",
      "Image Width        : 220\n",
      "Number of Channels : 3\n",
      "Image Size  : 136620\n"
     ]
    }
   ],
   "source": [
    "import cv2  \n",
    "import math\n",
    "# read image  \n",
    "img = cv2.imread('image.png',1)  \n",
    "  \n",
    "# height, width, number of channels in image  \n",
    "height = img.shape[0]  \n",
    "width = img.shape[1]  \n",
    "channels = img.shape[2]  \n",
    "size1 = img.size  \n",
    "\n",
    "print('Image Dimension    :',img.shape)  \n",
    "print('Image Height       :',height)  \n",
    "print('Image Width        :',width)  \n",
    "print('Number of Channels :',channels)  \n",
    "print('Image Size  :',size1)  "
   ]
  },
  {
   "cell_type": "markdown",
   "id": "palestinian-insert",
   "metadata": {},
   "source": [
    "### Image ROI (Region of Interest)\n",
    "Sometimes, we need to work with some areas of the image. As we discuss in the previous tutorial face detection is over the entire picture. When a face is obtained, we select only the face region and search for eyes inside it instead of searching the whole image. It enhances accuracy and performance because eyes are always on the face and don't need to search the entire image."
   ]
  },
  {
   "cell_type": "markdown",
   "id": "descending-sixth",
   "metadata": {},
   "source": [
    "### Splitting and Merging Image channels\n",
    "\n",
    "An image's BGR channels can be split into their planes when needed. Then, the individual channels can be merged back together from the BGR image again. This can be done by following way:"
   ]
  },
  {
   "cell_type": "code",
   "execution_count": 10,
   "id": "supported-progress",
   "metadata": {},
   "outputs": [],
   "source": [
    "\n",
    "b,g,r = cv2.split(img)  \n",
    "img = cv2.merge((b,g,r))  \n",
    "#or\n",
    "\n",
    "\n",
    "#b = img[:,:,0]  \n",
    "# Note: The cv2.split() function is a slow function. Numpy indexing is quit efficient and it should be used if possible."
   ]
  },
  {
   "cell_type": "markdown",
   "id": "clean-driver",
   "metadata": {},
   "source": [
    "\n",
    "### Making Borders for Images\n",
    "OpenCV provides the cv2.copyMakeBorder() function to create a border around the image, something like a photo frame. The syntax of the function is given below.\n",
    "\n"
   ]
  },
  {
   "cell_type": "markdown",
   "id": "resident-gentleman",
   "metadata": {},
   "source": [
    "cv2.copyMakeBorder(src,top,bottom,left,right,border type)  "
   ]
  },
  {
   "cell_type": "markdown",
   "id": "purple-ceramic",
   "metadata": {},
   "source": [
    "Parameters:\n",
    "\n",
    "src - It denotes input image.\n",
    "\n",
    "top, bottom, left, right - It defines the border width in the number of pixels in the corresponding direction.\n",
    "\n",
    "borderType - It defines what kind of border to be added. The border can be the following types.\n",
    "\n",
    "value - Color of border if border type is cv.BORDER_CONSTANT\n",
    "\n",
    "Consider the following example:"
   ]
  },
  {
   "cell_type": "code",
   "execution_count": 14,
   "id": "recognized-latin",
   "metadata": {},
   "outputs": [
    {
     "data": {
      "image/png": "[encoded data removed]",
      "text/plain": [
       "<Figure size 432x288 with 6 Axes>"
      ]
     },
     "metadata": {
      "needs_background": "light"
     },
     "output_type": "display_data"
    }
   ],
   "source": [
    "import cv2 as cv\n",
    "from matplotlib import pyplot as plt  \n",
    "BLUE = [255,0,0]  \n",
    "img1 = cv.imread('image.png',1)  \n",
    "replicate = cv.copyMakeBorder(img1,10,10,10,10,cv.BORDER_REPLICATE)  \n",
    "reflect = cv.copyMakeBorder(img1,10,10,10,10,cv.BORDER_REFLECT)  \n",
    "reflect101 = cv.copyMakeBorder(img1,10,10,10,10,cv.BORDER_REFLECT_101)  \n",
    "wrap = cv.copyMakeBorder(img1,10,10,10,10,cv.BORDER_WRAP)  \n",
    "constant= cv.copyMakeBorder(img1,10,10,10,10,cv.BORDER_CONSTANT,value=BLUE)  \n",
    "plt.subplot(231),plt.imshow(img1,'gray'),plt.title('ORIGINAL')  \n",
    "plt.subplot(232),plt.imshow(replicate,'gray'),plt.title('REPLICATE')  \n",
    "plt.subplot(233),plt.imshow(reflect,'gray'),plt.title('REFLECT')  \n",
    "plt.subplot(234),plt.imshow(reflect101,'gray'),plt.title('REFLECT_101')  \n",
    "plt.subplot(235),plt.imshow(wrap,'gray'),plt.title('WRAP')  \n",
    "plt.subplot(236),plt.imshow(constant,'gray'),plt.title('CONSTANT')  \n",
    "plt.show()   "
   ]
  },
  {
   "cell_type": "markdown",
   "id": "departmental-cause",
   "metadata": {},
   "source": [
    "### Change in Image color\n",
    "\n",
    "### OpenCV cvtColor\n",
    "\n",
    "The cvtColor is used to convert an image from one color space to another"
   ]
  },
  {
   "cell_type": "markdown",
   "id": "frequent-butter",
   "metadata": {},
   "source": [
    "cv2.cvtColor(src, dst, code) "
   ]
  },
  {
   "cell_type": "markdown",
   "id": "excited-fiber",
   "metadata": {},
   "source": [
    "\n",
    "Parameters:\n",
    "src - It is used to input an image: 8-bit unsigned.\n",
    "\n",
    "dst - It is used to display an image as output. The output image will be same size and depth as input image.\n",
    "\n",
    "code - color space conversion code."
   ]
  },
  {
   "cell_type": "code",
   "execution_count": 7,
   "id": "thirty-revelation",
   "metadata": {},
   "outputs": [
    {
     "data": {
      "text/plain": [
       "<matplotlib.image.AxesImage at 0x24026b83f88>"
      ]
     },
     "execution_count": 7,
     "metadata": {},
     "output_type": "execute_result"
    },
    {
     "data": {
      "image/png": "[encoded data removed]",
      "text/plain": [
       "<Figure size 432x288 with 1 Axes>"
      ]
     },
     "metadata": {
      "needs_background": "light"
     },
     "output_type": "display_data"
    }
   ],
   "source": [
    "\n",
    "# Using cv2.cvtColor() method   \n",
    "# Using cv2.COLOR_BGR2GRAY color space for convert BGR image to grayscale  \n",
    "\n",
    "image = cv2.cvtColor(img, cv2.COLOR_BGR2GRAY) \n",
    "plt.imshow(image)"
   ]
  },
  {
   "cell_type": "markdown",
   "id": "neutral-rebate",
   "metadata": {},
   "source": [
    "### OpenCV Resize the image\n",
    "\n",
    "Sometimes, it is necessary to transform the loaded image. In the image processing, we need to resize the image to perform the particular operation. Images are generally stored in Numpy ndarray(array). The ndarray.shape is used to obtain the dimension of the image. We can get the width, height, and numbers of the channels for each pixel by using the index of the dimension variable."
   ]
  },
  {
   "cell_type": "code",
   "execution_count": 11,
   "id": "fossil-georgia",
   "metadata": {},
   "outputs": [
    {
     "name": "stdout",
     "output_type": "stream",
     "text": [
      "Resized Dimensions : (124, 132, 4)\n"
     ]
    }
   ],
   "source": [
    "scale = 60\n",
    "width = int(img.shape[1]*scale/100)\n",
    "height = int(img.shape[0]*scale/100)\n",
    "dim = (width,height)\n",
    "\n",
    "#resize the image \n",
    "\n",
    "resized = cv2.resize(img,dim, interpolation=cv2.INTER_AREA)\n",
    "\n",
    "print('Resized Dimensions :',resized.shape)\n",
    "\n",
    "cv2.imshow(\"Resized image\",resized)\n",
    "cv2.waitKey(0)\n",
    "cv2.destroyAllWindows()"
   ]
  },
  {
   "cell_type": "markdown",
   "id": "little-february",
   "metadata": {},
   "source": [
    "The resizing of image means changing the dimension of the image, its width or height as well as both. Also the aspect ratio of the original image could be retained by resizing an image. OpenCV provides cv2.resize() function to resize the image. The syntax is given as:\n",
    "\n",
    "cv2.resize(src, dsize[, dst[, fx[,fy[,interpolation]]])  \n",
    "\n",
    "### Parameters:\n",
    "src - source/input image (required).\n",
    "\n",
    "dsize - desired size for the output image(required)\n",
    "\n",
    "fx - Scale factor along the horizontal axis.(optional)\n",
    "\n",
    "fy - Scale factor along the vertical axis.\n",
    "\n",
    "### Interpolation(optional) - This flag uses following methods:\n",
    "\n",
    "INTER_NEAREST - A nearest-interpolation INTER_AREA - resampling using pixel area relation. When we attempt to do image zoom, it is similar to the INTER_NEAREST method.\n",
    "\n",
    "INTER_CUBIC - A bicubic interpolation over 4×4 pixel neighborhood.\n",
    "\n",
    "INTER_LANCOZS4 - Lanczos interpolation over 8×8 pixel neighborhood."
   ]
  },
  {
   "cell_type": "markdown",
   "id": "lined-australia",
   "metadata": {},
   "source": [
    "### There are several ways to resize the image. Below are some examples to perform resize operation:\n",
    "\n",
    "Retain Aspect Ratio ( height to width ratio of the image is retained)\n",
    "\n",
    "Downscale(Decrement in the size of the image)\n",
    "\n",
    "Upscale(Increment in the size of image)\n",
    "\n",
    "Do not preserve Aspect Ratio\n",
    "\n",
    "Resize only the width\n",
    "\n",
    "Resize only the height\n",
    "\n",
    "Resize the specified width and height\n",
    "\n",
    "### Retain the aspect ratio\n",
    "\n",
    "Downscale with resize()"
   ]
  },
  {
   "cell_type": "code",
   "execution_count": 9,
   "id": "seeing-cause",
   "metadata": {},
   "outputs": [
    {
     "name": "stdout",
     "output_type": "stream",
     "text": [
      "Original Dimensions (207, 220, 4)\n",
      "Resized Dimensions : (124, 132, 4)\n"
     ]
    }
   ],
   "source": [
    "print('Original Dimensions',img.shape)\n",
    "\n",
    "scale = 60 #downscale value <100\n",
    "width = int(img.shape[1]*scale/100)\n",
    "height = int(img.shape[0]*scale/100)\n",
    "dim = (width,height)\n",
    "\n",
    "#resize the image \n",
    "\n",
    "resized = cv2.resize(img,dim, interpolation=cv2.INTER_AREA)\n",
    "\n",
    "print('Resized Dimensions :',resized.shape)\n",
    "\n",
    "cv2.imshow(\"Resized image\",resized)\n",
    "cv2.waitKey(0)\n",
    "cv2.destroyAllWindows()"
   ]
  },
  {
   "cell_type": "markdown",
   "id": "based-vector",
   "metadata": {},
   "source": [
    "\n",
    "In the above example, the scale_per variable holds the percentage of the image which needs to be scaled. The value<100 is used to downscale the provided image. We will use this scale_per value along with the original image's dimension to calculate the width and height of the output image.\n",
    "\n",
    "### Upscale with resize()"
   ]
  },
  {
   "cell_type": "code",
   "execution_count": 10,
   "id": "spectacular-sally",
   "metadata": {},
   "outputs": [
    {
     "name": "stdout",
     "output_type": "stream",
     "text": [
      "Original Dimensions (207, 220, 4)\n",
      "Resized Dimensions : (310, 330, 4)\n"
     ]
    }
   ],
   "source": [
    "print('Original Dimensions',img.shape)\n",
    "\n",
    "scale = 150 #Upscale value >100\n",
    "width = int(img.shape[1]*scale/100)\n",
    "height = int(img.shape[0]*scale/100)\n",
    "dim = (width,height)\n",
    "\n",
    "#resize the image \n",
    "\n",
    "resized = cv2.resize(img,dim, interpolation=cv2.INTER_AREA)\n",
    "\n",
    "print('Resized Dimensions :',resized.shape)\n",
    "\n",
    "cv2.imshow(\"Resized image\",resized)\n",
    "cv2.waitKey(0)\n",
    "cv2.destroyAllWindows()"
   ]
  },
  {
   "cell_type": "markdown",
   "id": "polished-stuart",
   "metadata": {},
   "source": [
    "### Not retaining the aspect ratio\n",
    "\n",
    "### Resize only the width\n",
    "\n",
    "In the below example, we have provided a specific value in pixel for width and the height will remain unaffected."
   ]
  },
  {
   "cell_type": "code",
   "execution_count": 12,
   "id": "useful-hydrogen",
   "metadata": {},
   "outputs": [
    {
     "name": "stdout",
     "output_type": "stream",
     "text": [
      "Original Dimensions (207, 220, 4)\n",
      "Resized Dimensions :  (440, 220, 4)\n"
     ]
    }
   ],
   "source": [
    "print('Original Dimensions',img.shape)\n",
    "\n",
    "width = img.shape[1] #keep original width\n",
    "height = 440 #increase the height\n",
    "dim = (width,height)\n",
    "\n",
    "#resize image\n",
    "resized = cv2.resize(img,dim,interpolation= cv2.INTER_AREA)\n",
    "\n",
    "print('Resized Dimensions : ',resized.shape)\n",
    "\n",
    "cv2.imshow(\"Resized image\",resized)\n",
    "cv2.waitKey(0)\n",
    "cv2.destroyAllWindows()"
   ]
  },
  {
   "cell_type": "markdown",
   "id": "funny-rapid",
   "metadata": {},
   "source": [
    "### Resize the height\n",
    "\n",
    "In the below example, the scale_per value holds the percentage by which height has to be scaled or we can provide the specific value in pixels."
   ]
  },
  {
   "cell_type": "code",
   "execution_count": 13,
   "id": "systematic-prototype",
   "metadata": {},
   "outputs": [
    {
     "name": "stdout",
     "output_type": "stream",
     "text": [
      "Original Dimensions (207, 220, 4)\n",
      "Resized Dimensions :  (200, 220, 4)\n"
     ]
    }
   ],
   "source": [
    "print('Original Dimensions',img.shape)\n",
    "\n",
    "width = img.shape[1] #keep original width\n",
    "height = 200 ##decrease the height\n",
    "dim = (width,height)\n",
    "\n",
    "#resize image\n",
    "resized = cv2.resize(img,dim,interpolation= cv2.INTER_AREA)\n",
    "\n",
    "print('Resized Dimensions : ',resized.shape)\n",
    "\n",
    "cv2.imshow(\"Resized image\",resized)\n",
    "cv2.waitKey(0)\n",
    "cv2.destroyAllWindows()"
   ]
  },
  {
   "cell_type": "markdown",
   "id": "constitutional-prairie",
   "metadata": {},
   "source": [
    "### Resize the specific width and height\n",
    "\n",
    "We can specify both width and height."
   ]
  },
  {
   "cell_type": "code",
   "execution_count": 14,
   "id": "absolute-quarter",
   "metadata": {},
   "outputs": [
    {
     "name": "stdout",
     "output_type": "stream",
     "text": [
      "Original Dimensions (207, 220, 4)\n",
      "Resized Dimensions :  (200, 300, 4)\n"
     ]
    }
   ],
   "source": [
    "print('Original Dimensions',img.shape)\n",
    "\n",
    "width = 300 #randomly resized\n",
    "height = 200 #randomly resized\n",
    "dim = (width,height)\n",
    "\n",
    "#resize image\n",
    "resized = cv2.resize(img,dim,interpolation= cv2.INTER_AREA)\n",
    "\n",
    "print('Resized Dimensions : ',resized.shape)\n",
    "\n",
    "cv2.imshow(\"Resized image\",resized)\n",
    "cv2.waitKey(0)\n",
    "cv2.destroyAllWindows()"
   ]
  },
  {
   "cell_type": "markdown",
   "id": "compact-press",
   "metadata": {},
   "source": [
    "# Thanks"
   ]
  },
  {
   "cell_type": "code",
   "execution_count": null,
   "id": "changing-greensboro",
   "metadata": {},
   "outputs": [],
   "source": []
  }
 ],
 "metadata": {
  "kernelspec": {
   "display_name": "Python 3",
   "language": "python",
   "name": "python3"
  },
  "language_info": {
   "codemirror_mode": {
    "name": "ipython",
    "version": 3
   },
   "file_extension": ".py",
   "mimetype": "text/x-python",
   "name": "python",
   "nbconvert_exporter": "python",
   "pygments_lexer": "ipython3",
   "version": "3.7.6"
  }
 },
 "nbformat": 4,
 "nbformat_minor": 5
}
